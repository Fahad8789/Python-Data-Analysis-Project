{
 "cells": [
  {
   "cell_type": "code",
   "execution_count": 31,
   "id": "c35411d8-15a7-4deb-ab08-89a1a0ebc283",
   "metadata": {},
   "outputs": [],
   "source": [
    "import pandas as pd\n",
    "import numpy as np\n",
    "import matplotlib.pyplot as plt\n",
    "import seaborn as sns"
   ]
  },
  {
   "cell_type": "code",
   "execution_count": 32,
   "id": "92d2b1df-6044-4505-8f4e-1acdba2a2861",
   "metadata": {},
   "outputs": [],
   "source": [
    "# Load data\n",
    "df=pd.read_csv(\"C:\\\\Users\\\\fahad\\\\Downloads\\\\uberDataset.csv\")"
   ]
  },
  {
   "cell_type": "code",
   "execution_count": 33,
   "id": "9e08aeb7-02e0-49a9-ba2d-34ef6b4685cd",
   "metadata": {},
   "outputs": [
    {
     "data": {
      "text/html": [
       "<div>\n",
       "<style scoped>\n",
       "    .dataframe tbody tr th:only-of-type {\n",
       "        vertical-align: middle;\n",
       "    }\n",
       "\n",
       "    .dataframe tbody tr th {\n",
       "        vertical-align: top;\n",
       "    }\n",
       "\n",
       "    .dataframe thead th {\n",
       "        text-align: right;\n",
       "    }\n",
       "</style>\n",
       "<table border=\"1\" class=\"dataframe\">\n",
       "  <thead>\n",
       "    <tr style=\"text-align: right;\">\n",
       "      <th></th>\n",
       "      <th>START_DATE</th>\n",
       "      <th>END_DATE</th>\n",
       "      <th>CATEGORY</th>\n",
       "      <th>START</th>\n",
       "      <th>STOP</th>\n",
       "      <th>MILES</th>\n",
       "      <th>PURPOSE</th>\n",
       "    </tr>\n",
       "  </thead>\n",
       "  <tbody>\n",
       "    <tr>\n",
       "      <th>0</th>\n",
       "      <td>01-01-2016 21:11</td>\n",
       "      <td>01-01-2016 21:17</td>\n",
       "      <td>Business</td>\n",
       "      <td>Fort Pierce</td>\n",
       "      <td>Fort Pierce</td>\n",
       "      <td>5.1</td>\n",
       "      <td>Meal/Entertain</td>\n",
       "    </tr>\n",
       "    <tr>\n",
       "      <th>1</th>\n",
       "      <td>01-02-2016 01:25</td>\n",
       "      <td>01-02-2016 01:37</td>\n",
       "      <td>Business</td>\n",
       "      <td>Fort Pierce</td>\n",
       "      <td>Fort Pierce</td>\n",
       "      <td>5.0</td>\n",
       "      <td>NaN</td>\n",
       "    </tr>\n",
       "    <tr>\n",
       "      <th>2</th>\n",
       "      <td>01-02-2016 20:25</td>\n",
       "      <td>01-02-2016 20:38</td>\n",
       "      <td>Business</td>\n",
       "      <td>Fort Pierce</td>\n",
       "      <td>Fort Pierce</td>\n",
       "      <td>4.8</td>\n",
       "      <td>Errand/Supplies</td>\n",
       "    </tr>\n",
       "    <tr>\n",
       "      <th>3</th>\n",
       "      <td>01-05-2016 17:31</td>\n",
       "      <td>01-05-2016 17:45</td>\n",
       "      <td>Business</td>\n",
       "      <td>Fort Pierce</td>\n",
       "      <td>Fort Pierce</td>\n",
       "      <td>4.7</td>\n",
       "      <td>Meeting</td>\n",
       "    </tr>\n",
       "    <tr>\n",
       "      <th>4</th>\n",
       "      <td>01-06-2016 14:42</td>\n",
       "      <td>01-06-2016 15:49</td>\n",
       "      <td>Business</td>\n",
       "      <td>Fort Pierce</td>\n",
       "      <td>West Palm Beach</td>\n",
       "      <td>63.7</td>\n",
       "      <td>Customer Visit</td>\n",
       "    </tr>\n",
       "  </tbody>\n",
       "</table>\n",
       "</div>"
      ],
      "text/plain": [
       "         START_DATE          END_DATE  CATEGORY        START             STOP  \\\n",
       "0  01-01-2016 21:11  01-01-2016 21:17  Business  Fort Pierce      Fort Pierce   \n",
       "1  01-02-2016 01:25  01-02-2016 01:37  Business  Fort Pierce      Fort Pierce   \n",
       "2  01-02-2016 20:25  01-02-2016 20:38  Business  Fort Pierce      Fort Pierce   \n",
       "3  01-05-2016 17:31  01-05-2016 17:45  Business  Fort Pierce      Fort Pierce   \n",
       "4  01-06-2016 14:42  01-06-2016 15:49  Business  Fort Pierce  West Palm Beach   \n",
       "\n",
       "   MILES          PURPOSE  \n",
       "0    5.1   Meal/Entertain  \n",
       "1    5.0              NaN  \n",
       "2    4.8  Errand/Supplies  \n",
       "3    4.7          Meeting  \n",
       "4   63.7   Customer Visit  "
      ]
     },
     "execution_count": 33,
     "metadata": {},
     "output_type": "execute_result"
    }
   ],
   "source": [
    "# Inspect the data\n",
    "df.head()"
   ]
  },
  {
   "cell_type": "code",
   "execution_count": 34,
   "id": "9a6a0086-df66-477b-bb41-ecce1ac8d6bb",
   "metadata": {},
   "outputs": [
    {
     "name": "stdout",
     "output_type": "stream",
     "text": [
      "<class 'pandas.core.frame.DataFrame'>\n",
      "RangeIndex: 1156 entries, 0 to 1155\n",
      "Data columns (total 7 columns):\n",
      " #   Column      Non-Null Count  Dtype  \n",
      "---  ------      --------------  -----  \n",
      " 0   START_DATE  1156 non-null   object \n",
      " 1   END_DATE    1155 non-null   object \n",
      " 2   CATEGORY    1155 non-null   object \n",
      " 3   START       1155 non-null   object \n",
      " 4   STOP        1155 non-null   object \n",
      " 5   MILES       1156 non-null   float64\n",
      " 6   PURPOSE     653 non-null    object \n",
      "dtypes: float64(1), object(6)\n",
      "memory usage: 63.3+ KB\n"
     ]
    }
   ],
   "source": [
    "# Check the data type\n",
    "df.info()"
   ]
  },
  {
   "cell_type": "code",
   "execution_count": 35,
   "id": "2d851c75-714e-4105-96fa-7ec254b2eae4",
   "metadata": {},
   "outputs": [
    {
     "data": {
      "text/plain": [
       "START_DATE      0\n",
       "END_DATE        1\n",
       "CATEGORY        1\n",
       "START           1\n",
       "STOP            1\n",
       "MILES           0\n",
       "PURPOSE       503\n",
       "dtype: int64"
      ]
     },
     "execution_count": 35,
     "metadata": {},
     "output_type": "execute_result"
    }
   ],
   "source": [
    "# check for null values\n",
    "df.isnull().sum()"
   ]
  },
  {
   "cell_type": "code",
   "execution_count": 36,
   "id": "43b926ed-321a-4185-9701-6ea7a52dcf71",
   "metadata": {},
   "outputs": [],
   "source": [
    "# Handling null values\n",
    "df[\"PURPOSE\"]=df[\"PURPOSE\"].replace(np.nan,\"Not\")"
   ]
  },
  {
   "cell_type": "code",
   "execution_count": 37,
   "id": "76e3a9be-c435-4212-8d54-1229907055ce",
   "metadata": {},
   "outputs": [
    {
     "data": {
      "text/plain": [
       "START_DATE    0\n",
       "END_DATE      1\n",
       "CATEGORY      1\n",
       "START         1\n",
       "STOP          1\n",
       "MILES         0\n",
       "PURPOSE       0\n",
       "dtype: int64"
      ]
     },
     "execution_count": 37,
     "metadata": {},
     "output_type": "execute_result"
    }
   ],
   "source": [
    "# check for null values\n",
    "df.isnull().sum()"
   ]
  },
  {
   "cell_type": "code",
   "execution_count": 38,
   "id": "1dbe6b3c-73b9-4079-b9b2-65fdb06868fa",
   "metadata": {},
   "outputs": [],
   "source": [
    "# Changing the data type of date columns\n",
    "df[\"START_DATE\"]=pd.to_datetime(df[\"START_DATE\"], errors=\"coerce\")\n",
    "df[\"END_DATE\"]=pd.to_datetime(df[\"END_DATE\"], errors=\"coerce\")"
   ]
  },
  {
   "cell_type": "code",
   "execution_count": 39,
   "id": "4a13af2f-ce70-4411-abf7-6a4510302ae5",
   "metadata": {},
   "outputs": [
    {
     "name": "stdout",
     "output_type": "stream",
     "text": [
      "<class 'pandas.core.frame.DataFrame'>\n",
      "RangeIndex: 1156 entries, 0 to 1155\n",
      "Data columns (total 7 columns):\n",
      " #   Column      Non-Null Count  Dtype         \n",
      "---  ------      --------------  -----         \n",
      " 0   START_DATE  421 non-null    datetime64[ns]\n",
      " 1   END_DATE    420 non-null    datetime64[ns]\n",
      " 2   CATEGORY    1155 non-null   object        \n",
      " 3   START       1155 non-null   object        \n",
      " 4   STOP        1155 non-null   object        \n",
      " 5   MILES       1156 non-null   float64       \n",
      " 6   PURPOSE     1156 non-null   object        \n",
      "dtypes: datetime64[ns](2), float64(1), object(4)\n",
      "memory usage: 63.3+ KB\n"
     ]
    }
   ],
   "source": [
    "# Check the data type\n",
    "df.info()"
   ]
  },
  {
   "cell_type": "code",
   "execution_count": 40,
   "id": "158cb077-8867-44f1-b12b-18236bcc0937",
   "metadata": {},
   "outputs": [],
   "source": [
    "# CREATE COLUMNS FOR DATE AND TIME\n",
    "from datetime import datetime\n",
    "df[\"start date\"]=pd.DatetimeIndex(df[\"START_DATE\"]).date\n",
    "df[\"start time\"]=pd.DatetimeIndex(df[\"START_DATE\"]).hour\n",
    "df[\"Month\"]=pd.DatetimeIndex(df[\"START_DATE\"]).month_name()\n",
    "df.drop(\"START_DATE\", axis=1, inplace=True)\n",
    "df.drop(\"END_DATE\", axis=1, inplace=True)"
   ]
  },
  {
   "cell_type": "code",
   "execution_count": 41,
   "id": "5a8ab095-91cd-4cbd-8e97-57ff718294dc",
   "metadata": {},
   "outputs": [
    {
     "data": {
      "text/html": [
       "<div>\n",
       "<style scoped>\n",
       "    .dataframe tbody tr th:only-of-type {\n",
       "        vertical-align: middle;\n",
       "    }\n",
       "\n",
       "    .dataframe tbody tr th {\n",
       "        vertical-align: top;\n",
       "    }\n",
       "\n",
       "    .dataframe thead th {\n",
       "        text-align: right;\n",
       "    }\n",
       "</style>\n",
       "<table border=\"1\" class=\"dataframe\">\n",
       "  <thead>\n",
       "    <tr style=\"text-align: right;\">\n",
       "      <th></th>\n",
       "      <th>CATEGORY</th>\n",
       "      <th>START</th>\n",
       "      <th>STOP</th>\n",
       "      <th>MILES</th>\n",
       "      <th>PURPOSE</th>\n",
       "      <th>start date</th>\n",
       "      <th>start time</th>\n",
       "      <th>Month</th>\n",
       "    </tr>\n",
       "  </thead>\n",
       "  <tbody>\n",
       "    <tr>\n",
       "      <th>0</th>\n",
       "      <td>Business</td>\n",
       "      <td>Fort Pierce</td>\n",
       "      <td>Fort Pierce</td>\n",
       "      <td>5.1</td>\n",
       "      <td>Meal/Entertain</td>\n",
       "      <td>2016-01-01</td>\n",
       "      <td>21.0</td>\n",
       "      <td>January</td>\n",
       "    </tr>\n",
       "    <tr>\n",
       "      <th>1</th>\n",
       "      <td>Business</td>\n",
       "      <td>Fort Pierce</td>\n",
       "      <td>Fort Pierce</td>\n",
       "      <td>5.0</td>\n",
       "      <td>Not</td>\n",
       "      <td>2016-01-02</td>\n",
       "      <td>1.0</td>\n",
       "      <td>January</td>\n",
       "    </tr>\n",
       "    <tr>\n",
       "      <th>2</th>\n",
       "      <td>Business</td>\n",
       "      <td>Fort Pierce</td>\n",
       "      <td>Fort Pierce</td>\n",
       "      <td>4.8</td>\n",
       "      <td>Errand/Supplies</td>\n",
       "      <td>2016-01-02</td>\n",
       "      <td>20.0</td>\n",
       "      <td>January</td>\n",
       "    </tr>\n",
       "    <tr>\n",
       "      <th>3</th>\n",
       "      <td>Business</td>\n",
       "      <td>Fort Pierce</td>\n",
       "      <td>Fort Pierce</td>\n",
       "      <td>4.7</td>\n",
       "      <td>Meeting</td>\n",
       "      <td>2016-01-05</td>\n",
       "      <td>17.0</td>\n",
       "      <td>January</td>\n",
       "    </tr>\n",
       "    <tr>\n",
       "      <th>4</th>\n",
       "      <td>Business</td>\n",
       "      <td>Fort Pierce</td>\n",
       "      <td>West Palm Beach</td>\n",
       "      <td>63.7</td>\n",
       "      <td>Customer Visit</td>\n",
       "      <td>2016-01-06</td>\n",
       "      <td>14.0</td>\n",
       "      <td>January</td>\n",
       "    </tr>\n",
       "  </tbody>\n",
       "</table>\n",
       "</div>"
      ],
      "text/plain": [
       "   CATEGORY        START             STOP  MILES          PURPOSE  start date  \\\n",
       "0  Business  Fort Pierce      Fort Pierce    5.1   Meal/Entertain  2016-01-01   \n",
       "1  Business  Fort Pierce      Fort Pierce    5.0              Not  2016-01-02   \n",
       "2  Business  Fort Pierce      Fort Pierce    4.8  Errand/Supplies  2016-01-02   \n",
       "3  Business  Fort Pierce      Fort Pierce    4.7          Meeting  2016-01-05   \n",
       "4  Business  Fort Pierce  West Palm Beach   63.7   Customer Visit  2016-01-06   \n",
       "\n",
       "   start time    Month  \n",
       "0        21.0  January  \n",
       "1         1.0  January  \n",
       "2        20.0  January  \n",
       "3        17.0  January  \n",
       "4        14.0  January  "
      ]
     },
     "execution_count": 41,
     "metadata": {},
     "output_type": "execute_result"
    }
   ],
   "source": [
    "df.head()"
   ]
  },
  {
   "cell_type": "code",
   "execution_count": 42,
   "id": "c760b05d-b1e8-4c11-8aa8-63c27f8197a2",
   "metadata": {},
   "outputs": [],
   "source": [
    "# add column for day night\n",
    "df[\"day time\"]=pd.cut(x=df[\"start time\"], bins=[0,4,12,16,22,24], labels=[\"Night\",\"Morning\",\"Afternoon\",\"Evening\",\"Night\"], ordered=False)"
   ]
  },
  {
   "cell_type": "code",
   "execution_count": 43,
   "id": "eaacf9d7-f457-471b-844b-fba87aade5d6",
   "metadata": {},
   "outputs": [
    {
     "data": {
      "text/html": [
       "<div>\n",
       "<style scoped>\n",
       "    .dataframe tbody tr th:only-of-type {\n",
       "        vertical-align: middle;\n",
       "    }\n",
       "\n",
       "    .dataframe tbody tr th {\n",
       "        vertical-align: top;\n",
       "    }\n",
       "\n",
       "    .dataframe thead th {\n",
       "        text-align: right;\n",
       "    }\n",
       "</style>\n",
       "<table border=\"1\" class=\"dataframe\">\n",
       "  <thead>\n",
       "    <tr style=\"text-align: right;\">\n",
       "      <th></th>\n",
       "      <th>CATEGORY</th>\n",
       "      <th>START</th>\n",
       "      <th>STOP</th>\n",
       "      <th>MILES</th>\n",
       "      <th>PURPOSE</th>\n",
       "      <th>start date</th>\n",
       "      <th>start time</th>\n",
       "      <th>Month</th>\n",
       "      <th>day time</th>\n",
       "    </tr>\n",
       "  </thead>\n",
       "  <tbody>\n",
       "    <tr>\n",
       "      <th>0</th>\n",
       "      <td>Business</td>\n",
       "      <td>Fort Pierce</td>\n",
       "      <td>Fort Pierce</td>\n",
       "      <td>5.1</td>\n",
       "      <td>Meal/Entertain</td>\n",
       "      <td>2016-01-01</td>\n",
       "      <td>21.0</td>\n",
       "      <td>January</td>\n",
       "      <td>Evening</td>\n",
       "    </tr>\n",
       "    <tr>\n",
       "      <th>1</th>\n",
       "      <td>Business</td>\n",
       "      <td>Fort Pierce</td>\n",
       "      <td>Fort Pierce</td>\n",
       "      <td>5.0</td>\n",
       "      <td>Not</td>\n",
       "      <td>2016-01-02</td>\n",
       "      <td>1.0</td>\n",
       "      <td>January</td>\n",
       "      <td>Night</td>\n",
       "    </tr>\n",
       "    <tr>\n",
       "      <th>2</th>\n",
       "      <td>Business</td>\n",
       "      <td>Fort Pierce</td>\n",
       "      <td>Fort Pierce</td>\n",
       "      <td>4.8</td>\n",
       "      <td>Errand/Supplies</td>\n",
       "      <td>2016-01-02</td>\n",
       "      <td>20.0</td>\n",
       "      <td>January</td>\n",
       "      <td>Evening</td>\n",
       "    </tr>\n",
       "    <tr>\n",
       "      <th>3</th>\n",
       "      <td>Business</td>\n",
       "      <td>Fort Pierce</td>\n",
       "      <td>Fort Pierce</td>\n",
       "      <td>4.7</td>\n",
       "      <td>Meeting</td>\n",
       "      <td>2016-01-05</td>\n",
       "      <td>17.0</td>\n",
       "      <td>January</td>\n",
       "      <td>Evening</td>\n",
       "    </tr>\n",
       "    <tr>\n",
       "      <th>4</th>\n",
       "      <td>Business</td>\n",
       "      <td>Fort Pierce</td>\n",
       "      <td>West Palm Beach</td>\n",
       "      <td>63.7</td>\n",
       "      <td>Customer Visit</td>\n",
       "      <td>2016-01-06</td>\n",
       "      <td>14.0</td>\n",
       "      <td>January</td>\n",
       "      <td>Afternoon</td>\n",
       "    </tr>\n",
       "  </tbody>\n",
       "</table>\n",
       "</div>"
      ],
      "text/plain": [
       "   CATEGORY        START             STOP  MILES          PURPOSE  start date  \\\n",
       "0  Business  Fort Pierce      Fort Pierce    5.1   Meal/Entertain  2016-01-01   \n",
       "1  Business  Fort Pierce      Fort Pierce    5.0              Not  2016-01-02   \n",
       "2  Business  Fort Pierce      Fort Pierce    4.8  Errand/Supplies  2016-01-02   \n",
       "3  Business  Fort Pierce      Fort Pierce    4.7          Meeting  2016-01-05   \n",
       "4  Business  Fort Pierce  West Palm Beach   63.7   Customer Visit  2016-01-06   \n",
       "\n",
       "   start time    Month   day time  \n",
       "0        21.0  January    Evening  \n",
       "1         1.0  January      Night  \n",
       "2        20.0  January    Evening  \n",
       "3        17.0  January    Evening  \n",
       "4        14.0  January  Afternoon  "
      ]
     },
     "execution_count": 43,
     "metadata": {},
     "output_type": "execute_result"
    }
   ],
   "source": [
    "df.head()"
   ]
  },
  {
   "cell_type": "code",
   "execution_count": 44,
   "id": "13c6254e-bf44-4454-8bcb-8ccc000534c2",
   "metadata": {},
   "outputs": [
    {
     "data": {
      "text/plain": [
       "CATEGORY        1\n",
       "START           1\n",
       "STOP            1\n",
       "MILES           0\n",
       "PURPOSE         0\n",
       "start date    735\n",
       "start time    735\n",
       "Month         735\n",
       "day time      742\n",
       "dtype: int64"
      ]
     },
     "execution_count": 44,
     "metadata": {},
     "output_type": "execute_result"
    }
   ],
   "source": [
    "# check for null values\n",
    "df.isnull().sum()"
   ]
  },
  {
   "cell_type": "code",
   "execution_count": 45,
   "id": "4f8b36aa-eee1-4b25-bd5c-fabcdd70ec3f",
   "metadata": {},
   "outputs": [],
   "source": [
    "# remove null values\n",
    "df.dropna(inplace=True)"
   ]
  },
  {
   "cell_type": "code",
   "execution_count": 46,
   "id": "7d23c120-ce3f-42aa-ac11-220a2652ada1",
   "metadata": {},
   "outputs": [
    {
     "data": {
      "text/plain": [
       "CATEGORY      0\n",
       "START         0\n",
       "STOP          0\n",
       "MILES         0\n",
       "PURPOSE       0\n",
       "start date    0\n",
       "start time    0\n",
       "Month         0\n",
       "day time      0\n",
       "dtype: int64"
      ]
     },
     "execution_count": 46,
     "metadata": {},
     "output_type": "execute_result"
    }
   ],
   "source": [
    "# check for null values\n",
    "df.isnull().sum()"
   ]
  },
  {
   "cell_type": "code",
   "execution_count": 47,
   "id": "677650ee-57e3-4364-b2a1-bd082ad0b248",
   "metadata": {},
   "outputs": [
    {
     "name": "stdout",
     "output_type": "stream",
     "text": [
      "   CATEGORY  count\n",
      "0  Business    400\n",
      "1  Personal     14\n"
     ]
    }
   ],
   "source": [
    "# 1. In which category do people book the most uber rides?\n",
    "count_category=df[\"CATEGORY\"].value_counts().sort_values(ascending=False).reset_index()\n",
    "print(count_category)"
   ]
  },
  {
   "cell_type": "code",
   "execution_count": 48,
   "id": "0bbbbceb-ae3f-4817-893b-3802e78b755f",
   "metadata": {},
   "outputs": [],
   "source": [
    "# In Business category people book the most uber rides."
   ]
  },
  {
   "cell_type": "code",
   "execution_count": 49,
   "id": "49e512cf-a59d-420a-b11f-d0c784d26ff3",
   "metadata": {},
   "outputs": [
    {
     "data": {
      "image/png": "[encoded data removed]",
      "text/plain": [
       "<Figure size 640x480 with 1 Axes>"
      ]
     },
     "metadata": {},
     "output_type": "display_data"
    }
   ],
   "source": [
    "# Visualization\n",
    "sns.barplot(x=\"CATEGORY\", y=\"count\", data=count_category, color=\"blue\")\n",
    "plt.xlabel(\"Category\")\n",
    "plt.ylabel(\"No. of rides\")\n",
    "plt.title(\"Rides by category\")\n",
    "plt.show()"
   ]
  },
  {
   "cell_type": "code",
   "execution_count": 50,
   "id": "77352775-3f66-4991-b972-2f3c1a0f8ea8",
   "metadata": {},
   "outputs": [
    {
     "name": "stdout",
     "output_type": "stream",
     "text": [
      "           PURPOSE  count\n",
      "0              Not    160\n",
      "1          Meeting     78\n",
      "2   Meal/Entertain     62\n",
      "3   Customer Visit     46\n",
      "4  Errand/Supplies     45\n",
      "5   Temporary Site     14\n",
      "6  Between Offices      9\n"
     ]
    }
   ],
   "source": [
    "# 2. For which purpose do people book the most uber rides?\n",
    "count_purpose=df[\"PURPOSE\"].value_counts().sort_values(ascending=False).reset_index()\n",
    "print(count_purpose)"
   ]
  },
  {
   "cell_type": "code",
   "execution_count": 51,
   "id": "7b37ef54-b67e-4007-8535-0b13c755846a",
   "metadata": {},
   "outputs": [],
   "source": [
    "# For Meeting purpose people book the most uber rides."
   ]
  },
  {
   "cell_type": "code",
   "execution_count": 52,
   "id": "41ad14e1-e19b-4c91-a3ff-4a07aea3b197",
   "metadata": {},
   "outputs": [
    {
     "data": {
      "image/png": "[encoded data removed]",
      "text/plain": [
       "<Figure size 1100x600 with 1 Axes>"
      ]
     },
     "metadata": {},
     "output_type": "display_data"
    }
   ],
   "source": [
    "# Visualization\n",
    "plt.figure(figsize=(11,6))\n",
    "sns.barplot(x=\"PURPOSE\", y=\"count\", data=count_purpose, color=\"green\")\n",
    "plt.xlabel(\"Purpose\")\n",
    "plt.ylabel(\"No. of rides\")\n",
    "plt.title(\"Rides by purpose\")        \n",
    "plt.show()"
   ]
  },
  {
   "cell_type": "code",
   "execution_count": 53,
   "id": "c11486dc-0635-4f16-828e-9e3b788436b5",
   "metadata": {},
   "outputs": [],
   "source": [
    "# 3. At what time do people book the most uber rides?"
   ]
  },
  {
   "cell_type": "code",
   "execution_count": 54,
   "id": "c465fee4-8279-4c61-8563-7188ab75c172",
   "metadata": {},
   "outputs": [
    {
     "data": {
      "text/html": [
       "<div>\n",
       "<style scoped>\n",
       "    .dataframe tbody tr th:only-of-type {\n",
       "        vertical-align: middle;\n",
       "    }\n",
       "\n",
       "    .dataframe tbody tr th {\n",
       "        vertical-align: top;\n",
       "    }\n",
       "\n",
       "    .dataframe thead th {\n",
       "        text-align: right;\n",
       "    }\n",
       "</style>\n",
       "<table border=\"1\" class=\"dataframe\">\n",
       "  <thead>\n",
       "    <tr style=\"text-align: right;\">\n",
       "      <th></th>\n",
       "      <th>day time</th>\n",
       "      <th>count</th>\n",
       "    </tr>\n",
       "  </thead>\n",
       "  <tbody>\n",
       "    <tr>\n",
       "      <th>0</th>\n",
       "      <td>Evening</td>\n",
       "      <td>163</td>\n",
       "    </tr>\n",
       "    <tr>\n",
       "      <th>1</th>\n",
       "      <td>Afternoon</td>\n",
       "      <td>131</td>\n",
       "    </tr>\n",
       "    <tr>\n",
       "      <th>2</th>\n",
       "      <td>Morning</td>\n",
       "      <td>103</td>\n",
       "    </tr>\n",
       "    <tr>\n",
       "      <th>3</th>\n",
       "      <td>Night</td>\n",
       "      <td>17</td>\n",
       "    </tr>\n",
       "  </tbody>\n",
       "</table>\n",
       "</div>"
      ],
      "text/plain": [
       "    day time  count\n",
       "0    Evening    163\n",
       "1  Afternoon    131\n",
       "2    Morning    103\n",
       "3      Night     17"
      ]
     },
     "execution_count": 54,
     "metadata": {},
     "output_type": "execute_result"
    }
   ],
   "source": [
    "count_time=df[\"day time\"].value_counts().sort_values(ascending=False).reset_index()\n",
    "count_time"
   ]
  },
  {
   "cell_type": "code",
   "execution_count": 55,
   "id": "bdf390cd-38c3-42ff-9ed9-3689f84c10ac",
   "metadata": {},
   "outputs": [],
   "source": [
    "# At evening people book the most uber rides"
   ]
  },
  {
   "cell_type": "code",
   "execution_count": 56,
   "id": "bcfaa863-712c-45df-85e5-d2dd5cbdc26c",
   "metadata": {},
   "outputs": [
    {
     "data": {
      "image/png": "[encoded data removed]",
      "text/plain": [
       "<Figure size 640x480 with 1 Axes>"
      ]
     },
     "metadata": {},
     "output_type": "display_data"
    }
   ],
   "source": [
    "# Visualization\n",
    "plt.pie(count_time[\"count\"], labels=count_time[\"day time\"], autopct=\"%1.1f%%\")\n",
    "plt.title(\"No. of rides by day time\")\n",
    "plt.show()"
   ]
  },
  {
   "cell_type": "code",
   "execution_count": 57,
   "id": "ef3a0add-8a0b-43f5-a9e3-a9c69d5dd1f4",
   "metadata": {},
   "outputs": [],
   "source": [
    "# 4.  In which month people book most and least uber rides?"
   ]
  },
  {
   "cell_type": "code",
   "execution_count": 62,
   "id": "c2d36f0a-b73f-48b7-992f-505fe4467ad7",
   "metadata": {},
   "outputs": [
    {
     "data": {
      "image/png": "[encoded data removed]",
      "text/plain": [
       "<Figure size 640x480 with 1 Axes>"
      ]
     },
     "metadata": {},
     "output_type": "display_data"
    }
   ],
   "source": [
    "count_month=df[\"Month\"].value_counts().sort_values(ascending=False).reset_index()\n",
    "sns.barplot(x=\"count\", y=\"Month\", data=count_month, color=\"skyblue\")\n",
    "plt.xlabel(\"No. of rides\")\n",
    "plt.ylabel(\"Month\")\n",
    "plt.title(\"Rides by month\")\n",
    "plt.show()"
   ]
  },
  {
   "cell_type": "code",
   "execution_count": null,
   "id": "92521197-3ce7-40d8-b394-a1293fe034a7",
   "metadata": {},
   "outputs": [],
   "source": [
    "# In November and September months people book most and least Uber rides."
   ]
  },
  {
   "cell_type": "code",
   "execution_count": null,
   "id": "5df34e3c-d0d6-4d28-b664-0722a2b64533",
   "metadata": {},
   "outputs": [],
   "source": []
  }
 ],
 "metadata": {
  "kernelspec": {
   "display_name": "Python 3 (ipykernel)",
   "language": "python",
   "name": "python3"
  },
  "language_info": {
   "codemirror_mode": {
    "name": "ipython",
    "version": 3
   },
   "file_extension": ".py",
   "mimetype": "text/x-python",
   "name": "python",
   "nbconvert_exporter": "python",
   "pygments_lexer": "ipython3",
   "version": "3.13.1"
  }
 },
 "nbformat": 4,
 "nbformat_minor": 5
}
